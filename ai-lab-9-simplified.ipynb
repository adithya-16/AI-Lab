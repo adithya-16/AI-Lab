{
 "cells": [
  {
   "cell_type": "markdown",
   "metadata": {
    "papermill": {
     "duration": 0.006673,
     "end_time": "2020-12-21T04:46:06.438407",
     "exception": false,
     "start_time": "2020-12-21T04:46:06.431734",
     "status": "completed"
    },
    "tags": []
   },
   "source": [
    "# Convert FOL into CNF Program"
   ]
  },
  {
   "cell_type": "markdown",
   "metadata": {
    "papermill": {
     "duration": 0.005055,
     "end_time": "2020-12-21T04:46:06.449104",
     "exception": false,
     "start_time": "2020-12-21T04:46:06.444049",
     "status": "completed"
    },
    "tags": []
   },
   "source": [
    "BMS College of Engineering - Dr Kavitha Sooda <br />\n",
    "BMS College of Engineering - Prof Sowmya V <br />\n",
    "BMS College of Engineering - Prof G R Asha  <br />\n",
    "##### Class 5C"
   ]
  },
  {
   "cell_type": "markdown",
   "metadata": {
    "papermill": {
     "duration": 0.004996,
     "end_time": "2020-12-21T04:46:06.459430",
     "exception": false,
     "start_time": "2020-12-21T04:46:06.454434",
     "status": "completed"
    },
    "tags": []
   },
   "source": [
    "## Objective\n",
    "- Convert given first order logic(FOL) statement into Conjunctive Normal Form(CNF).\n",
    "\n",
    "\n"
   ]
  },
  {
   "cell_type": "code",
   "execution_count": 1,
   "metadata": {
    "execution": {
     "iopub.execute_input": "2020-12-21T04:46:06.485941Z",
     "iopub.status.busy": "2020-12-21T04:46:06.484852Z",
     "iopub.status.idle": "2020-12-21T04:46:06.488507Z",
     "shell.execute_reply": "2020-12-21T04:46:06.487514Z"
    },
    "papermill": {
     "duration": 0.023796,
     "end_time": "2020-12-21T04:46:06.488678",
     "exception": false,
     "start_time": "2020-12-21T04:46:06.464882",
     "status": "completed"
    },
    "tags": []
   },
   "outputs": [],
   "source": [
    "\n",
    "def getAttributes(string):\n",
    "    expr = '\\([^)]+\\)'\n",
    "    matches = re.findall(expr, string)\n",
    "    return [m for m in str(matches) if m.isalpha()]\n",
    "\n",
    "def getPredicates(string):\n",
    "    expr = '[a-z~]+\\([A-Za-z,]+\\)'\n",
    "    return re.findall(expr, string)\n",
    "\n",
    "def Skolemization(statement):\n",
    "    SKOLEM_CONSTANTS = [f'{chr(c)}' for c in range(ord('A'), ord('Z')+1)]\n",
    "    matches = re.findall('[∃].', statement)\n",
    "    for match in matches[::-1]:\n",
    "        statement = statement.replace(match, '')\n",
    "        for predicate in getPredicates(statement):\n",
    "            attributes = getAttributes(predicate)\n",
    "            if ''.join(attributes).islower():\n",
    "                statement = statement.replace(match[1],SKOLEM_CONSTANTS.pop(0))\n",
    "    return statement"
   ]
  },
  {
   "cell_type": "code",
   "execution_count": 2,
   "metadata": {
    "_cell_guid": "79c7e3d0-c299-4dcb-8224-4455121ee9b0",
    "_uuid": "d629ff2d2480ee46fbb7e2d37f6b5fab8052498a",
    "execution": {
     "iopub.execute_input": "2020-12-21T04:46:06.516653Z",
     "iopub.status.busy": "2020-12-21T04:46:06.513039Z",
     "iopub.status.idle": "2020-12-21T04:46:06.520568Z",
     "shell.execute_reply": "2020-12-21T04:46:06.519744Z"
    },
    "papermill": {
     "duration": 0.024047,
     "end_time": "2020-12-21T04:46:06.520732",
     "exception": false,
     "start_time": "2020-12-21T04:46:06.496685",
     "status": "completed"
    },
    "tags": []
   },
   "outputs": [],
   "source": [
    "import re\n",
    "\n",
    "def fol_to_cnf(fol):\n",
    "    statement = fol.replace(\"=>\", \"-\")\n",
    "    expr = '\\[([^]]+)\\]'\n",
    "    statements = re.findall(expr, statement)\n",
    "    for i, s in enumerate(statements):\n",
    "        if '[' in s and ']' not in s:\n",
    "            statements[i] += ']'\n",
    "    for s in statements:\n",
    "        statement = statement.replace(s, fol_to_cnf(s))\n",
    "    while '-' in statement:\n",
    "        i = statement.index('-')\n",
    "        br = statement.index('[') if '[' in statement else 0\n",
    "        new_statement = '~' + statement[br:i] + '|' + statement[i+1:]\n",
    "        statement = statement[:br] + new_statement if br > 0 else new_statement\n",
    "    return Skolemization(statement)\n",
    "\n"
   ]
  },
  {
   "cell_type": "code",
   "execution_count": 3,
   "metadata": {
    "execution": {
     "iopub.execute_input": "2020-12-21T04:46:06.543739Z",
     "iopub.status.busy": "2020-12-21T04:46:06.542675Z",
     "iopub.status.idle": "2020-12-21T04:46:06.546922Z",
     "shell.execute_reply": "2020-12-21T04:46:06.547743Z"
    },
    "papermill": {
     "duration": 0.01875,
     "end_time": "2020-12-21T04:46:06.547976",
     "exception": false,
     "start_time": "2020-12-21T04:46:06.529226",
     "status": "completed"
    },
    "tags": []
   },
   "outputs": [
    {
     "name": "stdout",
     "output_type": "stream",
     "text": [
      "~bird(x)|~fly(x)\n",
      "[~bird(A)|~fly(A)]\n"
     ]
    }
   ],
   "source": [
    "\n",
    "print(fol_to_cnf(\"bird(x)=>~fly(x)\"))\n",
    "print(fol_to_cnf(\"∃x[bird(x)=>~fly(x)]\"))"
   ]
  }
 ],
 "metadata": {
  "kernelspec": {
   "display_name": "Python 3",
   "language": "python",
   "name": "python3"
  },
  "language_info": {
   "codemirror_mode": {
    "name": "ipython",
    "version": 3
   },
   "file_extension": ".py",
   "mimetype": "text/x-python",
   "name": "python",
   "nbconvert_exporter": "python",
   "pygments_lexer": "ipython3",
   "version": "3.7.6"
  },
  "papermill": {
   "duration": 6.957146,
   "end_time": "2020-12-21T04:46:06.665654",
   "environment_variables": {},
   "exception": null,
   "input_path": "__notebook__.ipynb",
   "output_path": "__notebook__.ipynb",
   "parameters": {},
   "start_time": "2020-12-21T04:45:59.708508",
   "version": "2.1.0"
  }
 },
 "nbformat": 4,
 "nbformat_minor": 4
}
