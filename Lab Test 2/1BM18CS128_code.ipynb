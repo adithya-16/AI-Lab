{
 "cells": [
  {
   "cell_type": "markdown",
   "metadata": {
    "papermill": {
     "duration": 0.006532,
     "end_time": "2020-12-28T05:15:12.130609",
     "exception": false,
     "start_time": "2020-12-28T05:15:12.124077",
     "status": "completed"
    },
    "tags": []
   },
   "source": [
    "**Adithya N 1BM18CS128**\n",
    "**28-12-2020**"
   ]
  },
  {
   "cell_type": "markdown",
   "metadata": {
    "papermill": {
     "duration": 0.00509,
     "end_time": "2020-12-28T05:15:12.141479",
     "exception": false,
     "start_time": "2020-12-28T05:15:12.136389",
     "status": "completed"
    },
    "tags": []
   },
   "source": [
    "**Design a suitable reasoning system to prove the query “The university is closed”, using forward chaining. The knowledge base has the following statements:**\n",
    "1. Sunday is a Holiday. \n",
    "2. Saturday and Sunday is weekend. \n",
    "3. On holidays the University is closed. \n",
    "4. It is the weekend. \n",
    "5. It is not Saturday.\n"
   ]
  },
  {
   "cell_type": "code",
   "execution_count": 1,
   "metadata": {
    "execution": {
     "iopub.execute_input": "2020-12-28T05:15:12.163561Z",
     "iopub.status.busy": "2020-12-28T05:15:12.162323Z",
     "iopub.status.idle": "2020-12-28T05:15:12.168167Z",
     "shell.execute_reply": "2020-12-28T05:15:12.167366Z"
    },
    "papermill": {
     "duration": 0.021336,
     "end_time": "2020-12-28T05:15:12.168329",
     "exception": false,
     "start_time": "2020-12-28T05:15:12.146993",
     "status": "completed"
    },
    "tags": []
   },
   "outputs": [],
   "source": [
    "import re\n",
    "\n",
    "def isVariable(x):\n",
    "    return len(x) == 1 and x.islower()\n",
    "\n",
    "def getAttributes(string):\n",
    "    expr = '\\([^)]+\\)'\n",
    "    return re.findall('\\([^)]+\\)', string)\n",
    "\n",
    "def getPredicates(string):\n",
    "    return re.findall('([a-z~]+)\\([^&]+\\)', string)"
   ]
  },
  {
   "cell_type": "code",
   "execution_count": 2,
   "metadata": {
    "execution": {
     "iopub.execute_input": "2020-12-28T05:15:12.190481Z",
     "iopub.status.busy": "2020-12-28T05:15:12.189570Z",
     "iopub.status.idle": "2020-12-28T05:15:12.203861Z",
     "shell.execute_reply": "2020-12-28T05:15:12.204672Z"
    },
    "papermill": {
     "duration": 0.027681,
     "end_time": "2020-12-28T05:15:12.204854",
     "exception": false,
     "start_time": "2020-12-28T05:15:12.177173",
     "status": "completed"
    },
    "tags": []
   },
   "outputs": [],
   "source": [
    "class Fact:\n",
    "    def __init__(self, expression):\n",
    "        self.expression = expression\n",
    "        predicate, params = self.splitExpression(expression)\n",
    "        self.predicate = predicate\n",
    "        self.params = params\n",
    "        self.result = any(self.getConstants())\n",
    "        \n",
    "    def splitExpression(self, expression):\n",
    "        predicate = getPredicates(expression)[0]\n",
    "        params = getAttributes(expression)[0].strip('()').split(',')\n",
    "        return [predicate, params]\n",
    "    \n",
    "    def getResult(self):\n",
    "        return self.result\n",
    "    \n",
    "    def getConstants(self):\n",
    "        return [None if isVariable(c) else c for c in self.params]\n",
    "    \n",
    "    def getVariables(self):\n",
    "        return [v if isVariable(v) else None for v in self.params]"
   ]
  },
  {
   "cell_type": "code",
   "execution_count": 3,
   "metadata": {
    "execution": {
     "iopub.execute_input": "2020-12-28T05:15:12.228016Z",
     "iopub.status.busy": "2020-12-28T05:15:12.227164Z",
     "iopub.status.idle": "2020-12-28T05:15:12.246550Z",
     "shell.execute_reply": "2020-12-28T05:15:12.245961Z"
    },
    "papermill": {
     "duration": 0.033204,
     "end_time": "2020-12-28T05:15:12.246704",
     "exception": false,
     "start_time": "2020-12-28T05:15:12.213500",
     "status": "completed"
    },
    "tags": []
   },
   "outputs": [],
   "source": [
    "class Implication:\n",
    "    def __init__(self, expression):\n",
    "        self.expression = expression\n",
    "        l = expression.split('=>')\n",
    "        self.lhs = [Fact(f) for f in l[0].split('&')]\n",
    "        self.rhs = Fact(l[1])\n",
    "        \n",
    "    def evaluate(self, facts):\n",
    "        constants = {}\n",
    "        new_lhs = []\n",
    "        for fact in facts:\n",
    "            for val in self.lhs + [self.rhs]:\n",
    "                if val.predicate == fact.predicate:\n",
    "                    for i, v in enumerate(val.getVariables()):\n",
    "                        if v:\n",
    "                            constants[v] = fact.getConstants()[i]\n",
    "                    new_lhs.append(fact)\n",
    "        predicate, attributes = self.rhs.predicate, '('+','.join(self.rhs.params)+')'\n",
    "        for key in constants:\n",
    "            if constants[key]:\n",
    "                attributes = attributes.replace(key, constants[key])\n",
    "        expr = f'{predicate}{attributes}'\n",
    "        return Fact(expr) if len(new_lhs) and all([f.getResult() for f in new_lhs]) else None"
   ]
  },
  {
   "cell_type": "code",
   "execution_count": 4,
   "metadata": {
    "execution": {
     "iopub.execute_input": "2020-12-28T05:15:12.282975Z",
     "iopub.status.busy": "2020-12-28T05:15:12.269756Z",
     "iopub.status.idle": "2020-12-28T05:15:12.288295Z",
     "shell.execute_reply": "2020-12-28T05:15:12.287430Z"
    },
    "papermill": {
     "duration": 0.035299,
     "end_time": "2020-12-28T05:15:12.288439",
     "exception": false,
     "start_time": "2020-12-28T05:15:12.253140",
     "status": "completed"
    },
    "tags": []
   },
   "outputs": [],
   "source": [
    "class KB:\n",
    "    def __init__(self):\n",
    "        self.facts = set()\n",
    "        self.implications = set()\n",
    "            \n",
    "    def tell(self, e):\n",
    "        if '=>' in e:\n",
    "            self.implications.add(Implication(e))\n",
    "        else:\n",
    "            self.facts.add(Fact(e))\n",
    "        for i in self.implications:\n",
    "            res = i.evaluate(self.facts)\n",
    "            if res:\n",
    "                self.facts.add(res)\n",
    "\n",
    "    def query(self, e):\n",
    "        for i in self.implications:\n",
    "            res = i.evaluate(self.facts)\n",
    "            if res:\n",
    "                self.facts.add(res)\n",
    "        facts = set([f.expression for f in self.facts])\n",
    "        i = 1\n",
    "        print(f'Querying {e}:')\n",
    "        for f in facts:\n",
    "            if Fact(f).expression == Fact(e).expression:\n",
    "                print(f'The query {e} is satisfied.')\n",
    "                return\n",
    "        print(f'The query {e} is refuted.')\n",
    "    \n",
    "    def display(self):\n",
    "        for i in self.implications:\n",
    "            res = i.evaluate(self.facts)\n",
    "            if res:\n",
    "                self.facts.add(res)\n",
    "        print(\"All facts: \")\n",
    "        for i, f in enumerate(set([f.expression for f in self.facts])):\n",
    "            print(f'\\t{i+1}. {f}')"
   ]
  },
  {
   "cell_type": "code",
   "execution_count": 5,
   "metadata": {
    "execution": {
     "iopub.execute_input": "2020-12-28T05:15:12.317583Z",
     "iopub.status.busy": "2020-12-28T05:15:12.316720Z",
     "iopub.status.idle": "2020-12-28T05:15:12.330059Z",
     "shell.execute_reply": "2020-12-28T05:15:12.327894Z"
    },
    "papermill": {
     "duration": 0.032022,
     "end_time": "2020-12-28T05:15:12.330299",
     "exception": false,
     "start_time": "2020-12-28T05:15:12.298277",
     "status": "completed"
    },
    "tags": []
   },
   "outputs": [
    {
     "name": "stdout",
     "output_type": "stream",
     "text": [
      "Querying uniclosed(Today):\n",
      "The query uniclosed(Today) is satisfied.\n",
      "\n",
      "All facts: \n",
      "\t1. ~saturday(Today)\n",
      "\t2. sunday(Today)\n",
      "\t3. uniclosed(Today)\n",
      "\t4. holiday(Today)\n",
      "\t5. weekend(Today)\n"
     ]
    }
   ],
   "source": [
    "kb = KB()\n",
    "kb.tell('sunday(x)=>holiday(x)') \n",
    "kb.tell('saturday(x)=>weekend(x)')\n",
    "kb.tell('sunday(x)=>weekend(x)')\n",
    "kb.tell('holiday(x)=>uniclosed(x)')\n",
    "kb.tell('sunday(Today)')\n",
    "kb.tell('~saturday(Today)')\n",
    "\n",
    "kb.query('uniclosed(Today)')      \n",
    "print()\n",
    "kb.display()"
   ]
  }
 ],
 "metadata": {
  "kernelspec": {
   "display_name": "Python 3",
   "language": "python",
   "name": "python3"
  },
  "language_info": {
   "codemirror_mode": {
    "name": "ipython",
    "version": 3
   },
   "file_extension": ".py",
   "mimetype": "text/x-python",
   "name": "python",
   "nbconvert_exporter": "python",
   "pygments_lexer": "ipython3",
   "version": "3.7.6"
  },
  "papermill": {
   "duration": 7.549993,
   "end_time": "2020-12-28T05:15:12.452385",
   "environment_variables": {},
   "exception": null,
   "input_path": "__notebook__.ipynb",
   "output_path": "__notebook__.ipynb",
   "parameters": {},
   "start_time": "2020-12-28T05:15:04.902392",
   "version": "2.1.0"
  }
 },
 "nbformat": 4,
 "nbformat_minor": 4
}
